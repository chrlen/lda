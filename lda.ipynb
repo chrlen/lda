{
 "cells": [
  {
   "cell_type": "code",
   "execution_count": 20,
   "metadata": {},
   "outputs": [],
   "source": [
    "import lda.generativeModel as gm\n",
    "import numpy as np"
   ]
  },
  {
   "cell_type": "code",
   "execution_count": 22,
   "metadata": {},
   "outputs": [],
   "source": [
    "topicWordConcentration_beta = np.array([1, 1, 1, 1, 1, 1, 1])\n",
    "documentTopicConcentration_alpha = np.array([1, 1, 1])\n",
    "\n",
    "model = gm.GenMod(mDocuments=100,\n",
    "                      kTopics=documentTopicConcentration_alpha.shape[0],\n",
    "                      topicWordConcentration_beta=topicWordConcentration_beta,\n",
    "                      documentTopicConcentration_alpha=documentTopicConcentration_alpha,\n",
    "                      poissonMoment=500)\n"
   ]
  },
  {
   "cell_type": "code",
   "execution_count": 23,
   "metadata": {},
   "outputs": [
    {
     "name": "stdout",
     "output_type": "stream",
     "text": [
      "<lda.generativeModel.GenMod object at 0x7f0060d35eb8>\n"
     ]
    }
   ],
   "source": [
    "print(model)"
   ]
  },
  {
   "cell_type": "code",
   "execution_count": 17,
   "metadata": {},
   "outputs": [],
   "source": [
    "import lda.dataset as dts\n",
    "dataset = dts.DataSet(path = 'dataset/small.xml')"
   ]
  },
  {
   "cell_type": "code",
   "execution_count": 7,
   "metadata": {},
   "outputs": [
    {
     "data": {
      "text/plain": [
       "<xml.etree.ElementTree.ElementTree at 0x7f0c482b4668>"
      ]
     },
     "execution_count": 7,
     "metadata": {},
     "output_type": "execute_result"
    }
   ],
   "source": [
    "dataset\n"
   ]
  }
 ],
 "metadata": {
  "kernelspec": {
   "display_name": "Python 3",
   "language": "python",
   "name": "python3"
  },
  "language_info": {
   "codemirror_mode": {
    "name": "ipython",
    "version": 3
   },
   "file_extension": ".py",
   "mimetype": "text/x-python",
   "name": "python",
   "nbconvert_exporter": "python",
   "pygments_lexer": "ipython3",
   "version": "3.6.6"
  }
 },
 "nbformat": 4,
 "nbformat_minor": 2
}
